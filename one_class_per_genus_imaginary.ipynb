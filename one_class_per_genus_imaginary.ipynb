{
 "cells": [
  {
   "cell_type": "code",
   "execution_count": 5,
   "id": "bde67108-486e-425b-b10f-7a5b49cb943d",
   "metadata": {},
   "outputs": [],
   "source": [
    "# Load functions defined in this package for class group computations\n",
    "load(\"functions.sage\")"
   ]
  },
  {
   "cell_type": "code",
   "execution_count": 6,
   "id": "c5775f9b-4604-4e30-a88a-b1eacd942d4b",
   "metadata": {},
   "outputs": [
    {
     "name": "stdout",
     "output_type": "stream",
     "text": [
      "[-4, [1, -4], 1]\n",
      "[-8, [1, -8], 1]\n",
      "[-12, [2, -3], 1]\n",
      "[-16, [2, -4], 1]\n",
      "[-20, [1, -20], 2]\n",
      "[-24, [1, -24], 2]\n",
      "[-28, [2, -7], 1]\n",
      "[-32, [2, -8], 2]\n",
      "[-36, [3, -4], 2]\n",
      "[-40, [1, -40], 2]\n",
      "[-48, [4, -3], 2]\n",
      "[-52, [1, -52], 2]\n",
      "[-60, [2, -15], 2]\n",
      "[-64, [4, -4], 2]\n",
      "[-72, [3, -8], 2]\n",
      "[-84, [1, -84], 4]\n",
      "[-88, [1, -88], 2]\n",
      "[-96, [2, -24], 4]\n",
      "[-100, [5, -4], 2]\n",
      "[-112, [4, -7], 2]\n",
      "[-120, [1, -120], 4]\n",
      "[-132, [1, -132], 4]\n",
      "[-148, [1, -148], 2]\n",
      "[-160, [2, -40], 4]\n",
      "[-168, [1, -168], 4]\n",
      "[-180, [3, -20], 4]\n",
      "[-192, [8, -3], 4]\n",
      "[-228, [1, -228], 4]\n",
      "[-232, [1, -232], 2]\n",
      "[-240, [4, -15], 4]\n",
      "[-280, [1, -280], 4]\n",
      "[-288, [6, -8], 4]\n",
      "[-312, [1, -312], 4]\n",
      "[-340, [1, -340], 4]\n",
      "[-352, [2, -88], 4]\n",
      "[-372, [1, -372], 4]\n",
      "[-408, [1, -408], 4]\n",
      "[-420, [1, -420], 8]\n",
      "[-448, [8, -7], 4]\n",
      "[-480, [2, -120], 8]\n",
      "[-520, [1, -520], 4]\n",
      "[-532, [1, -532], 4]\n",
      "[-660, [1, -660], 8]\n",
      "[-672, [2, -168], 8]\n",
      "[-708, [1, -708], 4]\n",
      "[-760, [1, -760], 4]\n",
      "[-840, [1, -840], 8]\n",
      "[-928, [2, -232], 4]\n",
      "[-960, [8, -15], 8]\n",
      "[-1012, [1, -1012], 4]\n",
      "[-1092, [1, -1092], 8]\n",
      "[-1120, [2, -280], 8]\n",
      "[-1248, [2, -312], 8]\n",
      "[-1320, [1, -1320], 8]\n",
      "[-1380, [1, -1380], 8]\n",
      "[-1428, [1, -1428], 8]\n",
      "[-1540, [1, -1540], 8]\n",
      "[-1632, [2, -408], 8]\n",
      "[-1848, [1, -1848], 8]\n",
      "[-2080, [2, -520], 8]\n",
      "[-3040, [2, -760], 8]\n",
      "[-3360, [2, -840], 16]\n",
      "[-5280, [2, -1320], 16]\n",
      "[-5460, [1, -5460], 16]\n",
      "[-7392, [2, -1848], 16]\n",
      "65\n"
     ]
    }
   ],
   "source": [
    "# Enumerate negative discriminants D = 0 (mod 4) whose class group is 2-torsion\n",
    "# Print [D,[f,D0],h] = [discriminant,[conductor,fundamental_discrimiant],class_number]\n",
    "count1=0\n",
    "for n in [1..10000]:\n",
    "    D=-4*n\n",
    "    g=genus(D)\n",
    "    h=ZZ[(D+D^(1/2))/2].class_number()\n",
    "    if g==h:\n",
    "        print([D,fd(D),h])\n",
    "        count1+=1\n",
    "print(count1)"
   ]
  },
  {
   "cell_type": "code",
   "execution_count": 7,
   "id": "31868ef9-f739-4b7e-8f2a-a6a270798e3d",
   "metadata": {},
   "outputs": [
    {
     "name": "stdout",
     "output_type": "stream",
     "text": [
      "[-3, [1, -3], 1]\n",
      "[-7, [1, -7], 1]\n",
      "[-11, [1, -11], 1]\n",
      "[-15, [1, -15], 2]\n",
      "[-19, [1, -19], 1]\n",
      "[-27, [3, -3], 1]\n",
      "[-35, [1, -35], 2]\n",
      "[-43, [1, -43], 1]\n",
      "[-51, [1, -51], 2]\n",
      "[-67, [1, -67], 1]\n",
      "[-75, [5, -3], 2]\n",
      "[-91, [1, -91], 2]\n",
      "[-99, [3, -11], 2]\n",
      "[-115, [1, -115], 2]\n",
      "[-123, [1, -123], 2]\n",
      "[-147, [7, -3], 2]\n",
      "[-163, [1, -163], 1]\n",
      "[-187, [1, -187], 2]\n",
      "[-195, [1, -195], 4]\n",
      "[-235, [1, -235], 2]\n",
      "[-267, [1, -267], 2]\n",
      "[-315, [3, -35], 4]\n",
      "[-403, [1, -403], 2]\n",
      "[-427, [1, -427], 2]\n",
      "[-435, [1, -435], 4]\n",
      "[-483, [1, -483], 4]\n",
      "[-555, [1, -555], 4]\n",
      "[-595, [1, -595], 4]\n",
      "[-627, [1, -627], 4]\n",
      "[-715, [1, -715], 4]\n",
      "[-795, [1, -795], 4]\n",
      "[-1155, [1, -1155], 8]\n",
      "[-1435, [1, -1435], 4]\n",
      "[-1995, [1, -1995], 8]\n",
      "[-3003, [1, -3003], 8]\n",
      "[-3315, [1, -3315], 8]\n",
      "36\n"
     ]
    }
   ],
   "source": [
    "# Enumerate negative discriminants D = 1 (mod 4) whose class group is 2-torsion\n",
    "# Print [D,[f,D0],h] = [discriminant,[conductor,fundamental_discrimiant],class_number]\n",
    "count2=0\n",
    "for n in [1..10000]:\n",
    "    D=1-4*n\n",
    "    g=genus(D)\n",
    "    h=ZZ[(D+D^(1/2))/2].class_number()\n",
    "    if g==h:\n",
    "        print([D,fd(D),h])\n",
    "        count2+=1\n",
    "print(count2)"
   ]
  },
  {
   "cell_type": "code",
   "execution_count": 8,
   "id": "33877f90-eaf1-4041-850a-a7cd003134b3",
   "metadata": {},
   "outputs": [
    {
     "data": {
      "text/plain": [
       "101"
      ]
     },
     "execution_count": 8,
     "metadata": {},
     "output_type": "execute_result"
    }
   ],
   "source": [
    "# Total number of discrimiants found whose class group is 2-torsion\n",
    "count1+count2"
   ]
  },
  {
   "cell_type": "code",
   "execution_count": null,
   "id": "a308b29e-0efb-4c86-ad4d-d161320b76bf",
   "metadata": {},
   "outputs": [],
   "source": []
  }
 ],
 "metadata": {
  "kernelspec": {
   "display_name": "SageMath 10.4",
   "language": "sage",
   "name": "sagemath"
  },
  "language_info": {
   "codemirror_mode": {
    "name": "ipython",
    "version": 3
   },
   "file_extension": ".py",
   "mimetype": "text/x-python",
   "name": "python",
   "nbconvert_exporter": "python",
   "pygments_lexer": "ipython3",
   "version": "3.12.7"
  }
 },
 "nbformat": 4,
 "nbformat_minor": 5
}
