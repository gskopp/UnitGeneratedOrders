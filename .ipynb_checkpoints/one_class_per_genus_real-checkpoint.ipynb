{
 "cells": [
  {
   "cell_type": "code",
   "execution_count": 1,
   "id": "1a835b4a-4809-4e68-b3a1-290ebfa0e0ea",
   "metadata": {},
   "outputs": [],
   "source": [
    "# Load functions defined in this package for class group computations\n",
    "load(\"functions.sage\")"
   ]
  },
  {
   "cell_type": "code",
   "execution_count": 2,
   "id": "1e15592d-eb2b-4312-bb12-143b847c9dbd",
   "metadata": {},
   "outputs": [
    {
     "data": {
      "text/plain": [
       "1"
      ]
     },
     "execution_count": 2,
     "metadata": {},
     "output_type": "execute_result"
    }
   ],
   "source": [
    "# 1\n",
    "ZZ[3^(1/2)].class_number()"
   ]
  },
  {
   "cell_type": "code",
   "execution_count": 3,
   "id": "b95fe2c9-cf36-4abe-b893-1d80488a765f",
   "metadata": {},
   "outputs": [
    {
     "data": {
      "text/plain": [
       "2"
      ]
     },
     "execution_count": 3,
     "metadata": {},
     "output_type": "execute_result"
    }
   ],
   "source": [
    "# 2\n",
    "genus(12)"
   ]
  },
  {
   "cell_type": "code",
   "execution_count": 4,
   "id": "10aed32f-432a-4916-b265-8bee3dae3b78",
   "metadata": {},
   "outputs": [
    {
     "data": {
      "text/plain": [
       "1"
      ]
     },
     "execution_count": 4,
     "metadata": {},
     "output_type": "execute_result"
    }
   ],
   "source": [
    "# 1\n",
    "wide_genus(12)"
   ]
  },
  {
   "cell_type": "code",
   "execution_count": null,
   "id": "76a83c38-78fb-4b24-b2a6-0a6cffdbccf2",
   "metadata": {},
   "outputs": [
    {
     "name": "stdout",
     "output_type": "stream",
     "text": [
      "[5, [1, 5], 1]\n",
      "[12, [1, 12], 1]\n",
      "[21, [1, 21], 1]\n",
      "[32, [2, 8], 1]\n",
      "[45, [3, 5], 1]\n",
      "[60, [1, 60], 2]\n",
      "[77, [1, 77], 1]\n",
      "[96, [2, 24], 2]\n",
      "[117, [3, 13], 1]\n",
      "[140, [1, 140], 2]\n",
      "[165, [1, 165], 2]\n",
      "[192, [4, 12], 2]\n",
      "[252, [3, 28], 2]\n",
      "[285, [1, 285], 2]\n",
      "[320, [8, 5], 2]\n",
      "[357, [1, 357], 2]\n",
      "[437, [1, 437], 1]\n",
      "[480, [2, 120], 4]\n",
      "[525, [5, 21], 2]\n",
      "[572, [1, 572], 2]\n",
      "[672, [2, 168], 4]\n",
      "[780, [1, 780], 4]\n",
      "[957, [1, 957], 2]\n",
      "[1020, [1, 1020], 4]\n",
      "[1085, [1, 1085], 2]\n",
      "[1365, [1, 1365], 4]\n",
      "[1440, [6, 40], 4]\n",
      "[1760, [2, 440], 4]\n",
      "[1932, [1, 1932], 4]\n",
      "[2112, [8, 33], 4]\n",
      "[2397, [1, 2397], 2]\n",
      "[2805, [1, 2805], 4]\n",
      "[2912, [2, 728], 4]\n",
      "[3360, [2, 840], 8]\n",
      "[4485, [1, 4485], 4]\n",
      "[4620, [1, 4620], 8]\n",
      "[5180, [1, 5180], 4]\n",
      "[6720, [8, 105], 8]\n",
      "[7392, [2, 1848], 8]\n",
      "[7917, [1, 7917], 4]\n",
      "[8645, [1, 8645], 4]\n",
      "[12540, [1, 12540], 8]\n",
      "[14880, [2, 3720], 8]\n",
      "[19040, [2, 4760], 8]\n",
      "[23712, [2, 5928], 8]\n",
      "[26565, [1, 26565], 8]\n",
      "[27552, [2, 6888], 8]\n",
      "[68640, [2, 17160], 16]\n"
     ]
    }
   ],
   "source": [
    "# Enumerate positive discriminants D = n^2-4 whose wide class group is 2-torsion\n",
    "# Print [D,[f,D0],h] = [discriminant,[conductor,fundamental_discrimiant],class_number]\n",
    "count1=0\n",
    "for n in [3..10000]:\n",
    "    D=n^2-4\n",
    "    g=wide_genus(D)\n",
    "    h=ZZ[(D+D^(1/2))/2].class_number()\n",
    "    if g==h:\n",
    "        print([D,fd(D),h])\n",
    "        count1+=1\n",
    "print(count1)"
   ]
  },
  {
   "cell_type": "code",
   "execution_count": null,
   "id": "33978c9c-bbea-4193-87c0-deca82dfbdb7",
   "metadata": {},
   "outputs": [],
   "source": [
    "# Enumerate positive discriminants D = n^2+4 whose wide class group is 2-torsion\n",
    "# Print [D,[f,D0],h] = [discriminant,[conductor,fundamental_discrimiant],class_number]\n",
    "count2=0\n",
    "for n in [2..10000]:\n",
    "    D=n^2+4\n",
    "    g=wide_genus(D)\n",
    "    h=ZZ[(D+D^(1/2))/2].class_number()\n",
    "    if g==h:\n",
    "        print([D,fd(D),h])\n",
    "        count2+=1\n",
    "print(count2)"
   ]
  },
  {
   "cell_type": "code",
   "execution_count": null,
   "id": "6f09812c-df98-4557-b33d-5b8e98e6e0c5",
   "metadata": {},
   "outputs": [],
   "source": [
    "# Total number of discrimiants found whose wide class group is 2-torsion\n",
    "count1+count2"
   ]
  },
  {
   "cell_type": "code",
   "execution_count": null,
   "id": "4ef1bead-b17a-4f32-9cdf-bacac2dfb96b",
   "metadata": {},
   "outputs": [],
   "source": []
  }
 ],
 "metadata": {
  "kernelspec": {
   "display_name": "SageMath 10.4",
   "language": "sage",
   "name": "sagemath"
  },
  "language_info": {
   "codemirror_mode": {
    "name": "ipython",
    "version": 3
   },
   "file_extension": ".py",
   "mimetype": "text/x-python",
   "name": "python",
   "nbconvert_exporter": "python",
   "pygments_lexer": "ipython3",
   "version": "3.12.7"
  }
 },
 "nbformat": 4,
 "nbformat_minor": 5
}
