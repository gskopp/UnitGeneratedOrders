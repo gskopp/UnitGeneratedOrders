{
 "cells": [
  {
   "cell_type": "code",
   "execution_count": 1,
   "id": "3c2a2913-03af-40c5-86c7-76ffeeb08097",
   "metadata": {},
   "outputs": [],
   "source": [
    "# Load functions defined in this package for class group computations\n",
    "load(\"functions.sage\")"
   ]
  },
  {
   "cell_type": "code",
   "execution_count": 3,
   "id": "5816b7de-30d8-4506-b64c-7a9cf7c25f83",
   "metadata": {},
   "outputs": [
    {
     "data": {
      "text/plain": [
       "15"
      ]
     },
     "execution_count": 3,
     "metadata": {},
     "output_type": "execute_result"
    }
   ],
   "source": [
    "sqrt(221+4)"
   ]
  },
  {
   "cell_type": "code",
   "execution_count": 4,
   "id": "02818d50-b5b9-4989-928c-baa593c8f54c",
   "metadata": {},
   "outputs": [
    {
     "name": "stdout",
     "output_type": "stream",
     "text": [
      "[1, 2]\n"
     ]
    }
   ],
   "source": [
    "D=221;\n",
    "g=wide_genus(D)\n",
    "h=ZZ[(D+D^(1/2))/2].class_number()\n",
    "print([g,h])"
   ]
  },
  {
   "cell_type": "code",
   "execution_count": 5,
   "id": "4f0ffc60-31f7-4d50-ac71-a8bff7de6c5e",
   "metadata": {},
   "outputs": [
    {
     "data": {
      "text/plain": [
       "13 * 17"
      ]
     },
     "execution_count": 5,
     "metadata": {},
     "output_type": "execute_result"
    }
   ],
   "source": [
    "factor(221)"
   ]
  },
  {
   "cell_type": "code",
   "execution_count": 6,
   "id": "af4a97f2-0d5e-4c21-8f17-07f003e5a6f6",
   "metadata": {},
   "outputs": [
    {
     "data": {
      "text/plain": [
       "2"
      ]
     },
     "execution_count": 6,
     "metadata": {},
     "output_type": "execute_result"
    }
   ],
   "source": [
    "genus(221)"
   ]
  },
  {
   "cell_type": "code",
   "execution_count": 7,
   "id": "0b82b2eb-176d-4cbd-a968-16211010cf3d",
   "metadata": {},
   "outputs": [
    {
     "data": {
      "text/plain": [
       "False"
      ]
     },
     "execution_count": 7,
     "metadata": {},
     "output_type": "execute_result"
    }
   ],
   "source": [
    "negpell(D)"
   ]
  },
  {
   "cell_type": "code",
   "execution_count": 8,
   "id": "623d8055-2e82-4c6b-8a5d-660d112a9c48",
   "metadata": {},
   "outputs": [],
   "source": [
    "K=QQ[(D+D^(1/2))/2]\n",
    "G=K.unit_group()"
   ]
  },
  {
   "cell_type": "code",
   "execution_count": 9,
   "id": "e6fccb76-6ccd-4644-8648-ab85adbc471e",
   "metadata": {},
   "outputs": [
    {
     "data": {
      "text/plain": [
       "Unit group with structure C2 x Z of Number Field in a with defining polynomial x^2 - 221*x + 12155 with a = 117.9330343736593?"
      ]
     },
     "execution_count": 9,
     "metadata": {},
     "output_type": "execute_result"
    }
   ],
   "source": [
    "G"
   ]
  },
  {
   "cell_type": "code",
   "execution_count": 12,
   "id": "b0e84235-e2e6-41e3-8d8a-0a258822ed61",
   "metadata": {},
   "outputs": [],
   "source": [
    "u=G.gens_values()[1]\n",
    "uconj=u.trace()-u"
   ]
  },
  {
   "cell_type": "code",
   "execution_count": 13,
   "id": "8206ad96-8d7f-4b20-a579-897b8b29aaf0",
   "metadata": {},
   "outputs": [
    {
     "data": {
      "text/plain": [
       "1"
      ]
     },
     "execution_count": 13,
     "metadata": {},
     "output_type": "execute_result"
    }
   ],
   "source": [
    "u*uconj"
   ]
  },
  {
   "cell_type": "code",
   "execution_count": null,
   "id": "6d83ca78-f8fc-47fe-ae57-9a24f91dbeec",
   "metadata": {},
   "outputs": [],
   "source": []
  }
 ],
 "metadata": {
  "kernelspec": {
   "display_name": "SageMath 10.4",
   "language": "sage",
   "name": "sagemath"
  },
  "language_info": {
   "codemirror_mode": {
    "name": "ipython",
    "version": 3
   },
   "file_extension": ".py",
   "mimetype": "text/x-python",
   "name": "python",
   "nbconvert_exporter": "python",
   "pygments_lexer": "ipython3",
   "version": "3.12.7"
  }
 },
 "nbformat": 4,
 "nbformat_minor": 5
}
