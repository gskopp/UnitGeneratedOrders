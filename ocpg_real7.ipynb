{
 "cells": [
  {
   "cell_type": "code",
   "execution_count": 1,
   "id": "991f3418-7a58-4e3f-a557-ea2efffb658b",
   "metadata": {},
   "outputs": [],
   "source": [
    "# Load functions defined in this package for class group computations\n",
    "load(\"functions.sage\")"
   ]
  },
  {
   "cell_type": "code",
   "execution_count": null,
   "id": "cb72d876-de3d-43e6-aa6b-05bebe6bbc10",
   "metadata": {},
   "outputs": [],
   "source": [
    "# Enumerate positive discriminants D = n^2-4 whose wide class group is 2-torsion\n",
    "# Print [D,[f,D0],h] = [discriminant,[conductor,fundamental_discrimiant],class_number]\n",
    "count1=0\n",
    "for n in [60001..70000]:\n",
    "    D=n^2-4\n",
    "    g=wide_genus(D)\n",
    "    h=ZZ[(D+D^(1/2))/2].class_number()\n",
    "    if g==h:\n",
    "        print([D,fd(D),h])\n",
    "        count1+=1\n",
    "print(count1)"
   ]
  },
  {
   "cell_type": "code",
   "execution_count": null,
   "id": "0b328050-d51e-4cde-b639-af2060d41328",
   "metadata": {},
   "outputs": [],
   "source": [
    "# Enumerate positive discriminants D = n^2+4 whose wide class group is 2-torsion\n",
    "# Print [D,[f,D0],h] = [discriminant,[conductor,fundamental_discrimiant],class_number]\n",
    "count2=0\n",
    "for n in [60001..70000]:\n",
    "    D=n^2+4\n",
    "    g=wide_genus(D)\n",
    "    h=ZZ[(D+D^(1/2))/2].class_number()\n",
    "    if g==h:\n",
    "        print([D,fd(D),h])\n",
    "        count1+=1\n",
    "print(count2)"
   ]
  },
  {
   "cell_type": "code",
   "execution_count": null,
   "id": "9f5cdc76-721c-4559-8012-714c7f84e838",
   "metadata": {},
   "outputs": [],
   "source": []
  }
 ],
 "metadata": {
  "kernelspec": {
   "display_name": "SageMath 10.4",
   "language": "sage",
   "name": "sagemath"
  },
  "language_info": {
   "codemirror_mode": {
    "name": "ipython",
    "version": 3
   },
   "file_extension": ".py",
   "mimetype": "text/x-python",
   "name": "python",
   "nbconvert_exporter": "python",
   "pygments_lexer": "ipython3",
   "version": "3.12.7"
  }
 },
 "nbformat": 4,
 "nbformat_minor": 5
}
